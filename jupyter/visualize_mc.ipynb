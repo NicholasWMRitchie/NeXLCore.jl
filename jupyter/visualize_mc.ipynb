{
  "cells": [
    {
      "cell_type": "markdown",
      "source": [
        "## Visualize a Monte Carlo\n",
        "\n",
        "This script plots Monte Carlo simulated electron trajectories."
      ],
      "metadata": {
        "nteract": {
          "transient": {
            "deleting": false
          }
        }
      }
    },
    {
      "cell_type": "code",
      "source": [
        "using NeXLCore\n",
        "using MeshCat, GeometryBasics, Colors\n",
        "using CoordinateTransformations\n",
        "\n",
        "vis = Visualizer()\n",
        "render(vis)"
      ],
      "outputs": [
        {
          "output_type": "stream",
          "name": "stderr",
          "text": [
            "┌ Info: MeshCat server started. You can open the visualizer by visiting the following URL in your browser:\n",
            "│ http://127.0.0.1:8700\n",
            "└ @ MeshCat C:\\Users\\nicho\\.julia\\packages\\MeshCat\\C1FSW\\src\\visualizer.jl:73\n"
          ]
        },
        {
          "output_type": "execute_result",
          "execution_count": 1,
          "data": {
            "text/plain": "MeshCat.DisplayedVisualizer(MeshCat.CoreVisualizer(MeshCat.SceneTrees.SceneNode(nothing, nothing, Dict{String,Array{UInt8,1}}(), nothing, Dict{String,MeshCat.SceneTrees.SceneNode}()), Set{Any}(), ip\"127.0.0.1\", 8700))",
            "text/html": "    <div style=\"height: 500px; width: 100%; overflow-x: auto; overflow-y: hidden; resize: both\">\n    <iframe src=\"http://127.0.0.1:8700\" style=\"width: 100%; height: 100%; border: none\"></iframe>\n    </div>\n"
          },
          "metadata": {}
        }
      ],
      "execution_count": 1,
      "metadata": {
        "collapsed": false,
        "jupyter": {
          "source_hidden": false,
          "outputs_hidden": false
        },
        "nteract": {
          "transient": {
            "deleting": false
          }
        },
        "execution": {
          "iopub.status.busy": "2020-11-29T23:02:33.971Z",
          "iopub.execute_input": "2020-11-29T23:02:34.420Z",
          "iopub.status.idle": "2020-11-29T23:02:58.991Z"
        }
      }
    },
    {
      "cell_type": "code",
      "source": [
        "# Draw the sample regions\n",
        "function draw(vis::Visualizer, region::Region, colors::Dict{Material, Color}, name::String=\"Sample\")\n",
        "    for (i, ch) in enumerate(region.children)\n",
        "        chname = \"$name[$i]\"\n",
        "        setobject!(vis[chname], MeshObject(ch.shape, MeshBasicMaterial(color=RGBA(colors[ch.material],0.2f0))))\n",
        "        settransform!(vis[chname],LinearMap([ 1.0e4 0.0 0.0; 0.0 1.0e4 0.0; 0.0 0.0 -1.0e4]))\n",
        "        draw(vis, ch, colors, chname)\n",
        "    end\n",
        "end"
      ],
      "outputs": [
        {
          "output_type": "execute_result",
          "execution_count": 2,
          "data": {
            "text/plain": "draw (generic function with 2 methods)"
          },
          "metadata": {}
        }
      ],
      "execution_count": 2,
      "metadata": {
        "collapsed": true,
        "jupyter": {
          "source_hidden": false,
          "outputs_hidden": false
        },
        "nteract": {
          "transient": {
            "deleting": false
          }
        },
        "execution": {
          "iopub.status.busy": "2020-11-29T23:02:58.998Z",
          "iopub.execute_input": "2020-11-29T23:02:59.396Z",
          "iopub.status.idle": "2020-11-29T23:02:59.858Z"
        }
      }
    },
    {
      "cell_type": "code",
      "source": [
        "# Clear the display\n",
        "delete!(vis)\n",
        "# Construct a new sample\n",
        "p = coated_particle(material(\"Al\",1.9), 1.0e-4, material(\"Al2O3\",1.9), 1.0e-5, material(\"C\",1.0))\n",
        "# Select colors\n",
        "matcolors = colorize(p)\n",
        "# Run many trajectories\n",
        "draw(vis, p, matcolors, \"Particle\")\n",
        "allpts, allcolors = Vector{Position}[], Vector{RGB{Float32}}[]\n",
        "# Display each trajectory alone\n",
        "for i in 1:100\n",
        "    pts, colors=Position[], RGB{Float32}[]\n",
        "    trajectory(gun(Electron, 20.0e3, 1.0e-6), p) do part, reg\n",
        "        # Record the position and the color at each scatter point\n",
        "        push!(pts, NeXLCore.position(part) .* (1.0e4, 1.0e4, -1.0e4))\n",
        "        push!(colors, matcolors[reg.material])\n",
        "    end\n",
        "    # Add the list of points to the display\n",
        "    setobject!(vis[\"trajectory\"], PointCloud(pts, colors)) # Add replacements\n",
        "    sleep(0.1)\n",
        "    delete!(vis[\"trajectory\"]) # Remove previous trajectories\n",
        "    push!(allpts,pts)\n",
        "    push!(allcolors,colors)\n",
        "end\n",
        "# Display all the trajectories simultaneously\n",
        "for (i, (pts, colors)) in enumerate(zip(allpts, allcolors))\n",
        "    setobject!(vis[\"trajectory[$i]\"], PointCloud(pts, colors))\n",
        "end"
      ],
      "outputs": [],
      "execution_count": 4,
      "metadata": {
        "collapsed": true,
        "jupyter": {
          "source_hidden": false,
          "outputs_hidden": false
        },
        "nteract": {
          "transient": {
            "deleting": false
          }
        },
        "execution": {
          "iopub.status.busy": "2020-11-29T23:04:31.279Z",
          "iopub.execute_input": "2020-11-29T23:04:31.282Z",
          "iopub.status.idle": "2020-11-29T23:04:42.252Z"
        }
      }
    },
    {
      "cell_type": "code",
      "source": [],
      "outputs": [],
      "execution_count": null,
      "metadata": {
        "collapsed": true,
        "jupyter": {
          "source_hidden": false,
          "outputs_hidden": false
        },
        "nteract": {
          "transient": {
            "deleting": false
          }
        }
      }
    },
    {
      "cell_type": "code",
      "source": [],
      "outputs": [],
      "execution_count": null,
      "metadata": {
        "collapsed": true,
        "jupyter": {
          "source_hidden": false,
          "outputs_hidden": false
        },
        "nteract": {
          "transient": {
            "deleting": false
          }
        }
      }
    }
  ],
  "metadata": {
    "kernel_info": {
      "name": "julia-1.5"
    },
    "language_info": {
      "file_extension": ".jl",
      "name": "julia",
      "mimetype": "application/julia",
      "version": "1.5.3"
    },
    "kernelspec": {
      "argv": [
        "C:\\Users\\nicho\\AppData\\Local\\Programs\\Julia 1.5.3\\bin\\julia.exe",
        "-i",
        "--startup-file=yes",
        "--color=yes",
        "--project=@.",
        "C:\\Users\\nicho\\.julia\\packages\\IJulia\\a1SNk\\src\\kernel.jl",
        "{connection_file}"
      ],
      "display_name": "Julia 1.5.3",
      "env": {},
      "interrupt_mode": "message",
      "language": "julia",
      "name": "julia-1.5"
    },
    "nteract": {
      "version": "0.26.0"
    }
  },
  "nbformat": 4,
  "nbformat_minor": 0
}