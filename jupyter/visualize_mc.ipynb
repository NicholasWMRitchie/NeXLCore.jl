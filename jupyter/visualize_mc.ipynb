{
  "cells": [
    {
      "cell_type": "markdown",
      "source": [
        "## Visualize a Monte Carlo\n",
        "\n",
        "This script plots Monte Carlo simulated electron trajectories."
      ],
      "metadata": {
        "nteract": {
          "transient": {
            "deleting": false
          }
        }
      }
    },
    {
      "cell_type": "code",
      "source": [
        "using NeXLCore\n",
        "using MeshCat, GeometryBasics, Colors\n",
        "\n",
        "vis = Visualizer()\n",
        "render(vis)"
      ],
      "outputs": [
        {
          "output_type": "stream",
          "name": "stderr",
          "text": [
            "┌ Info: Precompiling NeXLCore [93a0284f-3680-435e-8d39-dd6e52a1dbc8]\n",
            "└ @ Base loading.jl:1278\n",
            "┌ Info: MeshCat server started. You can open the visualizer by visiting the following URL in your browser:\n",
            "│ http://localhost:8701\n",
            "└ @ MeshCat C:\\Users\\nicho\\.julia\\packages\\MeshCat\\X2AUA\\src\\visualizer.jl:73\n"
          ]
        },
        {
          "output_type": "execute_result",
          "execution_count": 1,
          "data": {
            "text/plain": "MeshCat.DisplayedVisualizer(MeshCat.CoreVisualizer(MeshCat.SceneTrees.SceneNode(nothing, nothing, Dict{String,Array{UInt8,1}}(), nothing, Dict{String,MeshCat.SceneTrees.SceneNode}()), Set{Any}(), ip\"127.0.0.1\", 8701))",
            "text/html": "    <div style=\"height: 500px; width: 100%; overflow-x: auto; overflow-y: hidden; resize: both\">\n    <iframe src=\"http://localhost:8701\" style=\"width: 100%; height: 100%; border: none\"></iframe>\n    </div>\n"
          },
          "metadata": {}
        }
      ],
      "execution_count": 1,
      "metadata": {
        "collapsed": false,
        "jupyter": {
          "source_hidden": false,
          "outputs_hidden": false
        },
        "nteract": {
          "transient": {
            "deleting": false
          }
        },
        "execution": {
          "iopub.status.busy": "2020-11-28T01:30:03.110Z",
          "iopub.execute_input": "2020-11-28T01:30:03.566Z",
          "iopub.status.idle": "2020-11-28T01:30:51.894Z"
        }
      }
    },
    {
      "cell_type": "code",
      "source": [
        "# Clear the display\n",
        "delete!(vis)\n",
        "# Construct a new sample\n",
        "p = coated_particle(material(\"Al\",1.9), 1.0e-4, material(\"Al2O3\",1.9), 1.0e-5, material(\"C\",1.0))\n",
        "# Select colors\n",
        "matcolors = colorize(p)\n",
        "# Run many trajectories\n",
        "for i in 1:1000\n",
        "    pts, colors=Position[], RGB{Float32}[]\n",
        "    trajectory(gun(Electron, 20.0e3, 1.0e-6), p) do part, reg\n",
        "        # Record the position and the color at each scatter point\n",
        "        push!(pts, 10000.0*(NeXLCore.position(part) .* (1.0, 1.0, -1.0)))\n",
        "        push!(colors, matcolors[reg.material])\n",
        "    end\n",
        "    # Add the list of points to the display\n",
        "    delete!(vis[\"trajectory[$(i%50+1)]\"]) # Remove old trajectories\n",
        "    setobject!(vis[\"trajectory[$(i%50+1)]\"], PointCloud(pts, colors)) # Add replacements\n",
        "    sleep(0.01)\n",
        "end"
      ],
      "outputs": [],
      "execution_count": 2,
      "metadata": {
        "collapsed": true,
        "jupyter": {
          "source_hidden": false,
          "outputs_hidden": false
        },
        "nteract": {
          "transient": {
            "deleting": false
          }
        },
        "execution": {
          "iopub.status.busy": "2020-11-28T01:30:51.898Z",
          "iopub.execute_input": "2020-11-28T01:30:52.335Z",
          "iopub.status.idle": "2020-11-28T01:31:17.175Z"
        }
      }
    },
    {
      "cell_type": "code",
      "source": [],
      "outputs": [],
      "execution_count": null,
      "metadata": {
        "collapsed": true,
        "jupyter": {
          "source_hidden": false,
          "outputs_hidden": false
        },
        "nteract": {
          "transient": {
            "deleting": false
          }
        }
      }
    },
    {
      "cell_type": "code",
      "source": [],
      "outputs": [],
      "execution_count": null,
      "metadata": {
        "collapsed": true,
        "jupyter": {
          "source_hidden": false,
          "outputs_hidden": false
        },
        "nteract": {
          "transient": {
            "deleting": false
          }
        }
      }
    }
  ],
  "metadata": {
    "kernel_info": {
      "name": "julia-1.5"
    },
    "language_info": {
      "file_extension": ".jl",
      "name": "julia",
      "mimetype": "application/julia",
      "version": "1.5.2"
    },
    "kernelspec": {
      "argv": [
        "C:\\Users\\nicho\\AppData\\Local\\Programs\\Julia 1.5.2\\bin\\julia.exe",
        "-i",
        "--startup-file=yes",
        "--color=yes",
        "--project=@.",
        "C:\\Users\\nicho\\.julia\\packages\\IJulia\\a1SNk\\src\\kernel.jl",
        "{connection_file}"
      ],
      "display_name": "Julia 1.5.2",
      "env": {},
      "interrupt_mode": "message",
      "language": "julia",
      "name": "julia-1.5"
    },
    "nteract": {
      "version": "0.26.0"
    }
  },
  "nbformat": 4,
  "nbformat_minor": 0
}