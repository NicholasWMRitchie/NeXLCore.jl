{
 "cells": [
  {
   "cell_type": "markdown",
   "metadata": {},
   "source": [
    "## Oxygen by stoichiometry\n",
    "Using the <code>asoxide(...)</code> and <code>obystoichiometry(...)</code> functions"
   ]
  },
  {
   "cell_type": "code",
   "execution_count": 1,
   "metadata": {
    "scrolled": true
   },
   "outputs": [
    {
     "name": "stderr",
     "output_type": "stream",
     "text": [
      "┌ Info: Recompiling stale cache file C:\\Users\\nritchie\\.julia\\compiled\\v1.2\\NeXLCore\\E2raY.ji for NeXLCore [93a0284f-3680-435e-8d39-dd6e52a1dbc8]\n",
      "└ @ Base loading.jl:1240\n"
     ]
    }
   ],
   "source": [
    "using NeXLCore"
   ]
  },
  {
   "cell_type": "markdown",
   "metadata": {},
   "source": [
    "Start with a measured dictionary of mass fractions and use the function <code>obystoichiometry(...)</code> to calculate the mass fraction of oxygen (using the default set of valences.)"
   ]
  },
  {
   "cell_type": "code",
   "execution_count": 2,
   "metadata": {},
   "outputs": [
    {
     "data": {
      "text/plain": [
       "0.35244186490890517"
      ]
     },
     "execution_count": 2,
     "metadata": {},
     "output_type": "execute_result"
    }
   ],
   "source": [
    "measured=Dict(n\"Al\"=>0.06986,n\"Si\"=>0.042324,n\"Ca\"=>0.063917,n\"Ti\"=>0.072963,n\"Zn\"=>0.11421,n\"Ge\"=>0.317435) \n",
    "measured[n\"O\"]=obystoichiometry(measured)"
   ]
  },
  {
   "cell_type": "code",
   "execution_count": 3,
   "metadata": {},
   "outputs": [
    {
     "data": {
      "text/plain": [
       "ADM-65005a = (Ca = 0.0639, Al = 0.0699, Ge = 0.3174, Si = 0.0423, O = 0.3524, Ti = 0.0730, Zn = 0.1142)"
      ]
     },
     "execution_count": 3,
     "metadata": {},
     "output_type": "execute_result"
    }
   ],
   "source": [
    "material(\"ADM-65005a\",measured)"
   ]
  },
  {
   "cell_type": "markdown",
   "metadata": {},
   "source": [
    "The variable <code>NeXLCore.valence</code> contains the default valences.  Copy it and then edit it to use different  assumptions."
   ]
  },
  {
   "cell_type": "code",
   "execution_count": 4,
   "metadata": {},
   "outputs": [
    {
     "data": {
      "text/plain": [
       "3"
      ]
     },
     "execution_count": 4,
     "metadata": {},
     "output_type": "execute_result"
    }
   ],
   "source": [
    "altvalences=copy([ NeXLCore.valence... ])\n",
    "altvalences[z(n\"Fe\")]=3"
   ]
  },
  {
   "cell_type": "markdown",
   "metadata": {},
   "source": [
    "In one case, FeO, and in the other Fe<sub>2</sub>O<sub>3</sub>."
   ]
  },
  {
   "cell_type": "code",
   "execution_count": 5,
   "metadata": {},
   "outputs": [
    {
     "data": {
      "text/plain": [
       "(FeO = (Fe = 0.7773, O = 0.2227), Fe2O3 = (Fe = 0.6994, O = 0.3006))"
      ]
     },
     "execution_count": 5,
     "metadata": {},
     "output_type": "execute_result"
    }
   ],
   "source": [
    "( asoxide(n\"Fe\"), asoxide(n\"Fe\",altvalences) )"
   ]
  },
  {
   "cell_type": "markdown",
   "metadata": {},
   "source": [
    "You can add a similar argument to <code>obystoichiometry(...)</code> also.\n",
    "\n",
    "There is a second usage of <code>asoxide(...)</code> when a dictionary is provided.  This calculates a mixture of oxides from the mass fraction of each constituent oxide.  The results is a material and the name of the material makes it pretty clear what was calculated."
   ]
  },
  {
   "cell_type": "code",
   "execution_count": 6,
   "metadata": {},
   "outputs": [
    {
     "data": {
      "text/html": [
       "<table class=\"data-frame\"><thead><tr><th></th><th>Material</th><th>Element</th><th>AtomicNumber</th><th>AtomicWeight</th><th>MassFraction</th><th>NormalizedMassFraction</th><th>AtomicFraction</th></tr><tr><th></th><th>String</th><th>String</th><th>Int64</th><th>Abstract…</th><th>Abstract…</th><th>Abstract…</th><th>Abstract…</th></tr></thead><tbody><p>11 rows × 7 columns</p><tr><th>1</th><td>K411</td><td>O</td><td>8</td><td>15.999</td><td>0.423664</td><td>0.428549</td><td>0.602877</td></tr><tr><th>2</th><td>K411</td><td>Mg</td><td>12</td><td>24.305</td><td>0.0884662</td><td>0.0894864</td><td>0.0828671</td></tr><tr><th>3</th><td>K411</td><td>Si</td><td>14</td><td>28.085</td><td>0.253818</td><td>0.256745</td><td>0.205754</td></tr><tr><th>4</th><td>K411</td><td>Ca</td><td>20</td><td>40.0784</td><td>0.110564</td><td>0.111839</td><td>0.0628062</td></tr><tr><th>5</th><td>K411</td><td>Fe</td><td>26</td><td>55.8452</td><td>0.112088</td><td>0.113381</td><td>0.0456955</td></tr><tr><th>6</th><td>K412</td><td>O</td><td>8</td><td>15.999</td><td>0.427576</td><td>0.431198</td><td>0.593982</td></tr><tr><th>7</th><td>K412</td><td>Mg</td><td>12</td><td>24.305</td><td>0.116568</td><td>0.117555</td><td>0.106595</td></tr><tr><th>8</th><td>K412</td><td>Al</td><td>13</td><td>26.9815</td><td>0.0490621</td><td>0.0494777</td><td>0.040414</td></tr><tr><th>9</th><td>K412</td><td>Si</td><td>14</td><td>28.085</td><td>0.211983</td><td>0.213778</td><td>0.167756</td></tr><tr><th>10</th><td>K412</td><td>Ca</td><td>20</td><td>40.0784</td><td>0.108991</td><td>0.109915</td><td>0.0604414</td></tr><tr><th>11</th><td>K412</td><td>Fe</td><td>26</td><td>55.8452</td><td>0.0774201</td><td>0.0780759</td><td>0.030812</td></tr></tbody></table>"
      ],
      "text/latex": [
       "\\begin{tabular}{r|ccccccc}\n",
       "\t& Material & Element & AtomicNumber & AtomicWeight & MassFraction & NormalizedMassFraction & AtomicFraction\\\\\n",
       "\t\\hline\n",
       "\t& String & String & Int64 & Abstract… & Abstract… & Abstract… & Abstract…\\\\\n",
       "\t\\hline\n",
       "\t1 & K411 & O & 8 & 15.999 & 0.423664 & 0.428549 & 0.602877 \\\\\n",
       "\t2 & K411 & Mg & 12 & 24.305 & 0.0884662 & 0.0894864 & 0.0828671 \\\\\n",
       "\t3 & K411 & Si & 14 & 28.085 & 0.253818 & 0.256745 & 0.205754 \\\\\n",
       "\t4 & K411 & Ca & 20 & 40.0784 & 0.110564 & 0.111839 & 0.0628062 \\\\\n",
       "\t5 & K411 & Fe & 26 & 55.8452 & 0.112088 & 0.113381 & 0.0456955 \\\\\n",
       "\t6 & K412 & O & 8 & 15.999 & 0.427576 & 0.431198 & 0.593982 \\\\\n",
       "\t7 & K412 & Mg & 12 & 24.305 & 0.116568 & 0.117555 & 0.106595 \\\\\n",
       "\t8 & K412 & Al & 13 & 26.9815 & 0.0490621 & 0.0494777 & 0.040414 \\\\\n",
       "\t9 & K412 & Si & 14 & 28.085 & 0.211983 & 0.213778 & 0.167756 \\\\\n",
       "\t10 & K412 & Ca & 20 & 40.0784 & 0.108991 & 0.109915 & 0.0604414 \\\\\n",
       "\t11 & K412 & Fe & 26 & 55.8452 & 0.0774201 & 0.0780759 & 0.030812 \\\\\n",
       "\\end{tabular}\n"
      ],
      "text/plain": [
       "11×7 DataFrames.DataFrame\n",
       "│ Row │ Material │ Element │ AtomicNumber │ AtomicWeight │ MassFraction │ NormalizedMassFraction │ AtomicFraction │\n",
       "│     │ \u001b[90mString\u001b[39m   │ \u001b[90mString\u001b[39m  │ \u001b[90mInt64\u001b[39m        │ \u001b[90mAbstract…\u001b[39m    │ \u001b[90mAbstract…\u001b[39m    │ \u001b[90mAbstractFloat\u001b[39m          │ \u001b[90mAbstractFloat\u001b[39m  │\n",
       "├─────┼──────────┼─────────┼──────────────┼──────────────┼──────────────┼────────────────────────┼────────────────┤\n",
       "│ 1   │ K411     │ O       │ 8            │ 15.999       │ 0.423664     │ 0.428549               │ 0.602877       │\n",
       "│ 2   │ K411     │ Mg      │ 12           │ 24.305       │ 0.0884662    │ 0.0894864              │ 0.0828671      │\n",
       "│ 3   │ K411     │ Si      │ 14           │ 28.085       │ 0.253818     │ 0.256745               │ 0.205754       │\n",
       "│ 4   │ K411     │ Ca      │ 20           │ 40.0784      │ 0.110564     │ 0.111839               │ 0.0628062      │\n",
       "│ 5   │ K411     │ Fe      │ 26           │ 55.8452      │ 0.112088     │ 0.113381               │ 0.0456955      │\n",
       "│ 6   │ K412     │ O       │ 8            │ 15.999       │ 0.427576     │ 0.431198               │ 0.593982       │\n",
       "│ 7   │ K412     │ Mg      │ 12           │ 24.305       │ 0.116568     │ 0.117555               │ 0.106595       │\n",
       "│ 8   │ K412     │ Al      │ 13           │ 26.9815      │ 0.0490621    │ 0.0494777              │ 0.040414       │\n",
       "│ 9   │ K412     │ Si      │ 14           │ 28.085       │ 0.211983     │ 0.213778               │ 0.167756       │\n",
       "│ 10  │ K412     │ Ca      │ 20           │ 40.0784      │ 0.108991     │ 0.109915               │ 0.0604414      │\n",
       "│ 11  │ K412     │ Fe      │ 26           │ 55.8452      │ 0.0774201    │ 0.0780759              │ 0.030812       │"
      ]
     },
     "execution_count": 6,
     "metadata": {},
     "output_type": "execute_result"
    }
   ],
   "source": [
    "k412=asoxide(Dict(n\"Mg\"=>0.1933,n\"Al\"=>0.0927,n\"Si\"=>0.4535,n\"Ca\"=>0.1525,n\"Fe\"=>0.0996),\"K412\")\n",
    "k411=asoxide(Dict(n\"Mg\"=>0.1467,n\"Si\"=>0.5430,n\"Ca\"=>0.1547,n\"Fe\"=>0.1442),\"K411\")\n",
    "ENV[\"Columns\"]=160\n",
    "vcat(asa(k411),asa(k412))"
   ]
  },
  {
   "cell_type": "code",
   "execution_count": 7,
   "metadata": {},
   "outputs": [
    {
     "data": {
      "text/html": [
       "<table class=\"data-frame\"><thead><tr><th></th><th>Material</th><th>O</th><th>Mg</th><th>Al</th><th>Si</th><th>Ca</th><th>Fe</th><th>Total</th></tr><tr><th></th><th>String</th><th>Abstract…</th><th>Abstract…</th><th>Abstract…</th><th>Abstract…</th><th>Abstract…</th><th>Abstract…</th><th>Abstract…</th></tr></thead><tbody><p>2 rows × 8 columns</p><tr><th>1</th><td>K411</td><td>0.423664</td><td>0.0884662</td><td>0.0</td><td>0.253818</td><td>0.110564</td><td>0.112088</td><td>0.9886</td></tr><tr><th>2</th><td>K412</td><td>0.427576</td><td>0.116568</td><td>0.0490621</td><td>0.211983</td><td>0.108991</td><td>0.0774201</td><td>0.9916</td></tr></tbody></table>"
      ],
      "text/latex": [
       "\\begin{tabular}{r|cccccccc}\n",
       "\t& Material & O & Mg & Al & Si & Ca & Fe & Total\\\\\n",
       "\t\\hline\n",
       "\t& String & Abstract… & Abstract… & Abstract… & Abstract… & Abstract… & Abstract… & Abstract…\\\\\n",
       "\t\\hline\n",
       "\t1 & K411 & 0.423664 & 0.0884662 & 0.0 & 0.253818 & 0.110564 & 0.112088 & 0.9886 \\\\\n",
       "\t2 & K412 & 0.427576 & 0.116568 & 0.0490621 & 0.211983 & 0.108991 & 0.0774201 & 0.9916 \\\\\n",
       "\\end{tabular}\n"
      ],
      "text/plain": [
       "2×8 DataFrames.DataFrame\n",
       "│ Row │ Material │ O         │ Mg        │ Al        │ Si        │ Ca        │ Fe        │ Total     │\n",
       "│     │ \u001b[90mString\u001b[39m   │ \u001b[90mAbstract…\u001b[39m │ \u001b[90mAbstract…\u001b[39m │ \u001b[90mAbstract…\u001b[39m │ \u001b[90mAbstract…\u001b[39m │ \u001b[90mAbstract…\u001b[39m │ \u001b[90mAbstract…\u001b[39m │ \u001b[90mAbstract…\u001b[39m │\n",
       "├─────┼──────────┼───────────┼───────────┼───────────┼───────────┼───────────┼───────────┼───────────┤\n",
       "│ 1   │ K411     │ 0.423664  │ 0.0884662 │ 0.0       │ 0.253818  │ 0.110564  │ 0.112088  │ 0.9886    │\n",
       "│ 2   │ K412     │ 0.427576  │ 0.116568  │ 0.0490621 │ 0.211983  │ 0.108991  │ 0.0774201 │ 0.9916    │"
      ]
     },
     "execution_count": 7,
     "metadata": {},
     "output_type": "execute_result"
    }
   ],
   "source": [
    "asa(DataFrame, [k411, k412] )"
   ]
  },
  {
   "cell_type": "markdown",
   "metadata": {},
   "source": [
    "NWMR 18-Nov-2019"
   ]
  }
 ],
 "metadata": {
  "@webio": {
   "lastCommId": null,
   "lastKernelId": null
  },
  "kernelspec": {
   "display_name": "Julia 1.2.0",
   "language": "julia",
   "name": "julia-1.2"
  },
  "language_info": {
   "file_extension": ".jl",
   "mimetype": "application/julia",
   "name": "julia",
   "version": "1.2.0"
  }
 },
 "nbformat": 4,
 "nbformat_minor": 2
}
